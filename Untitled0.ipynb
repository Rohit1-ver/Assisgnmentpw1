{
  "nbformat": 4,
  "nbformat_minor": 0,
  "metadata": {
    "colab": {
      "provenance": []
    },
    "kernelspec": {
      "name": "python3",
      "display_name": "Python 3"
    },
    "language_info": {
      "name": "python"
    }
  },
  "cells": [
    {
      "cell_type": "code",
      "execution_count": null,
      "metadata": {
        "id": "z1_3w0ZTb0tn"
      },
      "outputs": [],
      "source": [
        "#Functions\n"
      ]
    },
    {
      "cell_type": "code",
      "source": [],
      "metadata": {
        "id": "TGCca2czc6YJ"
      },
      "execution_count": null,
      "outputs": []
    },
    {
      "cell_type": "markdown",
      "source": [
        "1. Explain the key features of Python that make it a popular choice for programming.\n"
      ],
      "metadata": {
        "id": "yf6jN70nc7CI"
      }
    },
    {
      "cell_type": "markdown",
      "source": [
        "Ans.Python is a popular and powerful programming language used to build websites, apps, games, software, and even control robots. It is loved by beginners and experts because it is easy to learn and use. Python is comes with many built-in tools, called libraries, which help you do tasks like building websites, doing math, working with data, and more. You do not need to tell Python what type of data you are using.\n",
        "\n",
        "It also supports different ways of writing programs, like using functions or classes. Because so many people use Python, it is easy to find help and examples online. All these features make Python a favorite choice for students, and professional programmers around the world."
      ],
      "metadata": {
        "id": "UFAxZLu-dske"
      }
    },
    {
      "cell_type": "markdown",
      "source": [],
      "metadata": {
        "id": "zFPiB-lQeT80"
      }
    },
    {
      "cell_type": "markdown",
      "source": [],
      "metadata": {
        "id": "dR4VZA4Eeufc"
      }
    },
    {
      "cell_type": "code",
      "source": [],
      "metadata": {
        "id": "bKO1ugBAeCtV"
      },
      "execution_count": null,
      "outputs": []
    },
    {
      "cell_type": "markdown",
      "source": [
        "2.Describe the role of predefined keywords in Python and provide examples of how they are used in a\n",
        "program."
      ],
      "metadata": {
        "id": "jTRPKeHmeDi0"
      }
    },
    {
      "cell_type": "markdown",
      "source": [
        "Ans.Predefined keywords in Python are special words that have specific meanings and are used to write Python programs. These words are already defined by Python and cannot be used as names for variables or functions. They help the computer understand what kind of action we want to perform. Some common keywords include if, else, while, for, def, class, and import. For example, we use if to check a condition, for to run a loop, and def to create a function. These keywords are like building blocks that help us write instructions in a program.\n",
        "\n",
        "For example,\n",
        "\n"
      ],
      "metadata": {
        "id": "bD-vZ1InevMd"
      }
    },
    {
      "cell_type": "code",
      "source": [
        "a = 40\n",
        "b = 90\n",
        "\n",
        "if b>a:\n",
        "  print(\"b is greater than a\")"
      ],
      "metadata": {
        "colab": {
          "base_uri": "https://localhost:8080/"
        },
        "id": "OF66UhOpffNN",
        "outputId": "d2460a7a-db14-4658-a2bb-42d6e4b64a2b"
      },
      "execution_count": 2,
      "outputs": [
        {
          "output_type": "stream",
          "name": "stdout",
          "text": [
            "b is greater than a\n"
          ]
        }
      ]
    },
    {
      "cell_type": "markdown",
      "source": [
        "3.Compare and contrast mutable and immutable objects in Python with examples."
      ],
      "metadata": {
        "id": "oX2hC9_GfmFp"
      }
    },
    {
      "cell_type": "markdown",
      "source": [
        "Ans.Mutable objects can be changed after they are created, which means we can update, add, or remove their elements. Examples of mutable objects include lists, dictionaries, and sets. On the other hand, immutable objects cannot be changed after they are created. Examples of immutable objects include integers, floats, strings, and tuples.\n",
        "\n",
        "example"
      ],
      "metadata": {
        "id": "LwYx35jlftKW"
      }
    },
    {
      "cell_type": "code",
      "source": [
        "person = {\"name\": \"Alice\", \"age\": 25}\n",
        "person[\"age\"] = 26\n",
        "print(person)  # Output: {'name': 'Alice', 'age': 26}"
      ],
      "metadata": {
        "colab": {
          "base_uri": "https://localhost:8080/"
        },
        "id": "ElyAAnNngnRC",
        "outputId": "3f47a049-0d89-41d0-bc8d-c6394a8ca925"
      },
      "execution_count": 3,
      "outputs": [
        {
          "output_type": "stream",
          "name": "stdout",
          "text": [
            "{'name': 'Alice', 'age': 26}\n"
          ]
        }
      ]
    },
    {
      "cell_type": "code",
      "source": [
        "my_tuple = (1, 2, 3)\n",
        "# my_tuple[0] = 10  # This will cause an error because tuples are immutable."
      ],
      "metadata": {
        "id": "4PtAnG-tgvwr"
      },
      "execution_count": 5,
      "outputs": []
    },
    {
      "cell_type": "markdown",
      "source": [
        "4.Discuss the different types of operators in Python and provide examples of how they are used."
      ],
      "metadata": {
        "id": "rvQm11jFhBHX"
      }
    },
    {
      "cell_type": "markdown",
      "source": [
        "Ans. Python has different types of operators that help us perform various tasks in a program. Arithmetic operators are used for basic math, such as + for addition, - for subtraction, * for multiplication, and / for division. Comparison operators, like ==, !=, >, and <, are used to compare two values and return either True or False. Logical operators such as and, or, and not help us combine multiple conditions. Assignment operators like =, +=, and -= are used to assign or update the values of variables. Python also has bitwise operators, like & and |, which work on the binary level. Membership operators like in and not in are used to check if a value exists in a list, string, or other collection. Lastly, identity operators such as is and is not are used to check if two variables refer to the same object. These operators make it easier to perform operations and make decisions in a Python program."
      ],
      "metadata": {
        "id": "9aAQXznghZcC"
      }
    },
    {
      "cell_type": "code",
      "source": [
        "x = 10\n",
        "y = 3\n",
        "print(x + y)\n",
        "print(x % y)\n"
      ],
      "metadata": {
        "colab": {
          "base_uri": "https://localhost:8080/"
        },
        "id": "gy21wPbGh6q0",
        "outputId": "de7fb803-8884-4c0a-a0dc-66012473e2b1"
      },
      "execution_count": 6,
      "outputs": [
        {
          "output_type": "stream",
          "name": "stdout",
          "text": [
            "13\n",
            "1\n"
          ]
        }
      ]
    },
    {
      "cell_type": "code",
      "source": [
        "print(5 > 3)\n",
        "print(4 == 4)"
      ],
      "metadata": {
        "id": "HZR21ix8iAgd"
      },
      "execution_count": null,
      "outputs": []
    },
    {
      "cell_type": "code",
      "source": [
        "x = 5\n",
        "x += 3\n",
        "print(x)\n"
      ],
      "metadata": {
        "colab": {
          "base_uri": "https://localhost:8080/"
        },
        "id": "bA3eCc8AiFB_",
        "outputId": "50d99f15-654c-4d43-d5b8-8dd699d6445b"
      },
      "execution_count": 8,
      "outputs": [
        {
          "output_type": "stream",
          "name": "stdout",
          "text": [
            "8\n"
          ]
        }
      ]
    },
    {
      "cell_type": "code",
      "source": [
        "a = 5\n",
        "print(a > 2 and a < 10)\n",
        "print(not(a == 5))\n"
      ],
      "metadata": {
        "colab": {
          "base_uri": "https://localhost:8080/"
        },
        "id": "r5D7MunZiC06",
        "outputId": "5bba52c2-8e5e-4ba2-dfa8-43e7a75a387a"
      },
      "execution_count": 7,
      "outputs": [
        {
          "output_type": "stream",
          "name": "stdout",
          "text": [
            "True\n",
            "False\n"
          ]
        }
      ]
    },
    {
      "cell_type": "code",
      "source": [
        "a = [1, 2]\n",
        "b = a\n",
        "print(a is b)\n"
      ],
      "metadata": {
        "colab": {
          "base_uri": "https://localhost:8080/"
        },
        "id": "VHFhm7CjhYjK",
        "outputId": "7a497612-f4e0-4e7c-c7b2-af5b01b50c53"
      },
      "execution_count": 1,
      "outputs": [
        {
          "output_type": "stream",
          "name": "stdout",
          "text": [
            "True\n"
          ]
        }
      ]
    },
    {
      "cell_type": "markdown",
      "source": [
        "5.Explain the concept of type casting in Python with examples"
      ],
      "metadata": {
        "id": "NobBMRBOzpVP"
      }
    },
    {
      "cell_type": "markdown",
      "source": [
        "Ans.Type casting in Python is use to converting a value from one data type to another. This is useful when you want to perform operations that require values to be in a specific format. For example, if you have a number stored as a string, you can change it to an integer to do math with it. There are two types of type casting: implicit and explicit. In implicit casting, Python automatically converts the data type. For example, if you add an integer and a float, Python will change the integer to a float. In explicit casting, the programmer manually changes the data type using functions like int(), float(), or str()"
      ],
      "metadata": {
        "id": "9_vBwmJmzsRe"
      }
    },
    {
      "cell_type": "code",
      "source": [
        "a = \"100\"     # string\n",
        "b = int(a)    # convert to integer\n",
        "print(float(b + 20))"
      ],
      "metadata": {
        "colab": {
          "base_uri": "https://localhost:8080/"
        },
        "id": "iFYdW7Xo0G-o",
        "outputId": "48f75ca2-7a07-4b32-c28a-33fd5a5e4225"
      },
      "execution_count": 3,
      "outputs": [
        {
          "output_type": "stream",
          "name": "stdout",
          "text": [
            "120.0\n"
          ]
        }
      ]
    },
    {
      "cell_type": "markdown",
      "source": [
        "6. How do conditional statements work in Python? Illustrate with examples"
      ],
      "metadata": {
        "id": "P0t-Tv7Y0SYB"
      }
    },
    {
      "cell_type": "markdown",
      "source": [
        "Ans.Conditional statements in Python are used to make decisions in a program based on certain conditions. These conditions are usually comparisons, like checking if one number is greater than another. Python uses if, elif, and else keywords to write conditional statements. The if statement checks the first condition. If it is true, the code under it runs. If not, the program checks the elif (else if) conditions. If none of them are true, the else block runs as the default. This helps the program choose different actions based on the input or situation"
      ],
      "metadata": {
        "id": "pU8kBI5Y0s2d"
      }
    },
    {
      "cell_type": "code",
      "source": [
        "age = 18\n",
        "\n",
        "if age < 18:\n",
        "    print(\"You are a minor.\")\n",
        "elif age == 18:\n",
        "    print(\"You just became an adult!\")\n",
        "else:\n",
        "    print(\"You are an adult.\")"
      ],
      "metadata": {
        "colab": {
          "base_uri": "https://localhost:8080/"
        },
        "id": "XsWUR1TC0u4z",
        "outputId": "8341755c-5f23-4d5e-a1ee-8875796709ee"
      },
      "execution_count": 4,
      "outputs": [
        {
          "output_type": "stream",
          "name": "stdout",
          "text": [
            "You just became an adult!\n"
          ]
        }
      ]
    },
    {
      "cell_type": "markdown",
      "source": [
        "7.Describe the different types of loops in Python and their use cases with examples."
      ],
      "metadata": {
        "id": "rmZytsoX05Lp"
      }
    },
    {
      "cell_type": "markdown",
      "source": [
        "Ans. Loops in Python are used to repeat a block of code multiple times. There are mainly two types of loops: for loop and while loop. A for loop is used when we want to repeat something a specific number of times, often with items in a list, string, or range. It is commonly used when we know how many times we want the loop to run. A while loop is used when we want to repeat something until a certain condition becomes false. It is useful when we don’t know in advance how many times the loop will run. There is also a special statement called break that can be used inside any loop to stop it early, and continue which skips to the next loop cycle."
      ],
      "metadata": {
        "id": "58C8Of0o1RPO"
      }
    },
    {
      "cell_type": "code",
      "source": [
        "for i in range(5):\n",
        "    print(\"Hello\", i)"
      ],
      "metadata": {
        "colab": {
          "base_uri": "https://localhost:8080/"
        },
        "id": "QWVHLi7p1X6Z",
        "outputId": "dd73a8f7-3fcd-4388-aa03-5bd6f608984b"
      },
      "execution_count": 5,
      "outputs": [
        {
          "output_type": "stream",
          "name": "stdout",
          "text": [
            "Hello 0\n",
            "Hello 1\n",
            "Hello 2\n",
            "Hello 3\n",
            "Hello 4\n"
          ]
        }
      ]
    },
    {
      "cell_type": "code",
      "source": [
        "count = 1\n",
        "while count <= 3:\n",
        "    print(\"Counting:\", count)\n",
        "    count += 1\n"
      ],
      "metadata": {
        "colab": {
          "base_uri": "https://localhost:8080/"
        },
        "id": "XzjQtDfc1bk0",
        "outputId": "8332dad7-9087-4c9a-addf-537d3e690d8a"
      },
      "execution_count": 6,
      "outputs": [
        {
          "output_type": "stream",
          "name": "stdout",
          "text": [
            "Counting: 1\n",
            "Counting: 2\n",
            "Counting: 3\n"
          ]
        }
      ]
    },
    {
      "cell_type": "code",
      "source": [],
      "metadata": {
        "id": "1EbqsP-Nzox7"
      },
      "execution_count": null,
      "outputs": []
    }
  ]
}